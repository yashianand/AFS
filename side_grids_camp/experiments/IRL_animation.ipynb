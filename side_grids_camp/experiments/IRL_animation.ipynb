{
  "nbformat": 4,
  "nbformat_minor": 0,
  "metadata": {
    "colab": {
      "name": "Copy of IRL-animation-Tom",
      "version": "0.3.2",
      "views": {},
      "default_view": {},
      "provenance": [
        {
          "file_id": "1BNZbDo4T0V85sOlsBz5UUZoagO-8wqvr",
          "timestamp": 1524237650454
        },
        {
          "file_id": "1s5eb8tWLefJUo1wZN0yJI4JxxZRe0Ztj",
          "timestamp": 1524231844672
        },
        {
          "file_id": "1w8Dz4t2nUdGLCW6rm2KFRUJDET2AcxFa",
          "timestamp": 1524227443770
        }
      ],
      "collapsed_sections": []
    },
    "kernelspec": {
      "name": "python2",
      "display_name": "Python 2"
    },
    "accelerator": "GPU"
  },
  "cells": [
    {
      "metadata": {
        "id": "BEkc4iFRm-Tk",
        "colab_type": "code",
        "colab": {
          "autoexec": {
            "startup": false,
            "wait_interval": 0
          }
        }
      },
      "cell_type": "code",
      "source": [
        "#!kill -9 -1"
      ],
      "execution_count": 0,
      "outputs": []
    },
    {
      "metadata": {
        "id": "pio36AltQeUt",
        "colab_type": "code",
        "colab": {
          "autoexec": {
            "startup": false,
            "wait_interval": 0
          },
          "base_uri": "https://localhost:8080/",
          "height": 868
        },
        "outputId": "8bd8a16a-2334-4679-f890-87ec228f6529",
        "executionInfo": {
          "status": "ok",
          "timestamp": 1524299692014,
          "user_tz": -60,
          "elapsed": 15650,
          "user": {
            "displayName": "gl",
            "photoUrl": "https://lh3.googleusercontent.com/a/default-user=s128",
            "userId": "113720389476440620975"
          }
        }
      },
      "cell_type": "code",
      "source": [
        "!ls\n",
        "from __future__ import print_function\n",
        "import itertools\n",
        "import numpy as np\n",
        "import os\n",
        "import random\n",
        "import sys\n",
        "import tensorflow as tf\n",
        "from collections import deque, namedtuple\n",
        "from matplotlib import pyplot as plt\n",
        "import datetime\n",
        "!rm -r ai-safety-gridworlds\n",
        "!git clone --recursive https://github.com/side-grids/ai-safety-gridworlds\n",
        "os.chdir(\"ai-safety-gridworlds\")\n",
        "!cd ai_safety_gridworlds; git submodule init; git submodule update\n",
        "!git pull origin IRLImplementation\n",
        "!git checkout IRLImplementation\n",
        "\n",
        "if \"ai-safety-gridworlds/\" not in sys.path:\n",
        "  sys.path.append(\"ai-safety-gridworlds/\")\n",
        "\n",
        "from ai_safety_gridworlds.environments.side_effects_sokoban import SideEffectsSokobanEnvironment as sokoban_game\n",
        "import side_grids_camp.utils.feature_extractors as fe\n",
        "import side_grids_camp.agents.IRL as irl\n",
        "reload(fe)\n",
        "%matplotlib inline"
      ],
      "execution_count": 3,
      "outputs": [
        {
          "output_type": "stream",
          "text": [
            "datalab\n",
            "rm: cannot remove 'ai-safety-gridworlds': No such file or directory\n",
            "Cloning into 'ai-safety-gridworlds'...\n",
            "remote: Counting objects: 941, done.\u001b[K\n",
            "remote: Compressing objects: 100% (557/557), done.\u001b[K\n",
            "remote: Total 941 (delta 627), reused 572 (delta 327), pack-reused 49\u001b[K\n",
            "Receiving objects: 100% (941/941), 274.46 KiB | 6.38 MiB/s, done.\n",
            "Resolving deltas: 100% (642/642), done.\n",
            "Submodule 'pycolab' (https://github.com/deepmind/pycolab.git) registered for path 'pycolab'\n",
            "Cloning into '/content/ai-safety-gridworlds/pycolab'...\n",
            "remote: Counting objects: 130, done.        \n",
            "remote: Compressing objects: 100% (26/26), done.        \n",
            "remote: Total 130 (delta 10), reused 21 (delta 9), pack-reused 95        \n",
            "Receiving objects: 100% (130/130), 213.40 KiB | 10.16 MiB/s, done.\n",
            "Resolving deltas: 100% (57/57), done.\n",
            "Submodule path 'pycolab': checked out 'b389d1e7ef949863561047d358a1661c298d382f'\n",
            "From https://github.com/side-grids/ai-safety-gridworlds\n",
            " * branch            IRLImplementation -> FETCH_HEAD\n",
            "Updating 4913692..ca7a1c6\n",
            "Fast-forward\n",
            " .../environments/side_effects_ball_bot.py          | 178 \u001b[32m++++++++++++++\u001b[m\n",
            " .../environments/side_effects_burning_building.py  | 179 \u001b[32m++++++++++++++\u001b[m\n",
            " .../environments/side_effects_random_tea_bot.py    | 195 \u001b[32m+++++++++++++++\u001b[m\n",
            " .../environments/side_effects_sokoban.py           |   8 \u001b[32m+\u001b[m\u001b[31m-\u001b[m\n",
            " .../side_effects_spontaneous_combustion.py         | 177 \u001b[32m++++++++++++++\u001b[m\n",
            " .../environments/side_effects_strict_sokoban.py    | 260 \u001b[32m++++++++++++++++++++\u001b[m\n",
            " .../environments/side_effects_sushi_bot.py         | 189 \u001b[32m+++++++++++++++\u001b[m\n",
            " .../environments/side_effects_tea_bot.py           | 204 \u001b[32m++++++++++++++++\u001b[m\n",
            " .../environments/side_effects_vase.py              | 168 \u001b[32m+++++++++++++\u001b[m\n",
            " side_grids_camp/IRL.py                             | 267 \u001b[32m+++++++++++++++++++++\u001b[m\n",
            " side_grids_camp/feature_extractors.py              |  55 \u001b[32m+++\u001b[m\u001b[31m--\u001b[m\n",
            " side_grids_camp/utils/__init__.py                  |   0\n",
            " side_grids_camp/utils/irl_utils.py                 | 126 \u001b[32m++++++++++\u001b[m\n",
            " side_grids_camp/utils/irl_utils_tests.py           | 146 \u001b[32m+++++++++++\u001b[m\n",
            " 14 files changed, 2134 insertions(+), 18 deletions(-)\n",
            " create mode 100644 ai_safety_gridworlds/environments/side_effects_ball_bot.py\n",
            " create mode 100644 ai_safety_gridworlds/environments/side_effects_burning_building.py\n",
            " create mode 100644 ai_safety_gridworlds/environments/side_effects_random_tea_bot.py\n",
            " create mode 100644 ai_safety_gridworlds/environments/side_effects_spontaneous_combustion.py\n",
            " create mode 100644 ai_safety_gridworlds/environments/side_effects_strict_sokoban.py\n",
            " create mode 100644 ai_safety_gridworlds/environments/side_effects_sushi_bot.py\n",
            " create mode 100644 ai_safety_gridworlds/environments/side_effects_tea_bot.py\n",
            " create mode 100644 ai_safety_gridworlds/environments/side_effects_vase.py\n",
            " create mode 100644 side_grids_camp/IRL.py\n",
            " create mode 100644 side_grids_camp/utils/__init__.py\n",
            " create mode 100644 side_grids_camp/utils/irl_utils.py\n",
            " create mode 100644 side_grids_camp/utils/irl_utils_tests.py\n",
            "Branch IRLImplementation set up to track remote branch IRLImplementation from origin.\n",
            "Switched to a new branch 'IRLImplementation'\n"
          ],
          "name": "stdout"
        }
      ]
    },
    {
      "metadata": {
        "id": "0KT5VNywQkuY",
        "colab_type": "code",
        "colab": {
          "autoexec": {
            "startup": false,
            "wait_interval": 0
          },
          "base_uri": "https://localhost:8080/",
          "height": 52
        },
        "outputId": "06a1ad72-8e6e-4e44-9259-c0262d8fff56",
        "executionInfo": {
          "status": "ok",
          "timestamp": 1524299692694,
          "user_tz": -60,
          "elapsed": 602,
          "user": {
            "displayName": "gl",
            "photoUrl": "https://lh3.googleusercontent.com/a/default-user=s128",
            "userId": "113720389476440620975"
          }
        }
      },
      "cell_type": "code",
      "source": [
        "BATCH_SIZE = 16\n",
        "\n",
        "env = sokoban_game(level=0)\n",
        "VALID_ACTIONS = list(range(env.action_spec().maximum + 1))\n",
        "WORLD_LIMS = env.observation_spec()['board'].shape\n",
        "WX, WY = WORLD_LIMS\n",
        "FRAMES_STATE = 2\n",
        "print(\"Worlds limits: {}\".format(WORLD_LIMS))\n",
        "print(\"RGB format: {}\".format(env.observation_spec()['RGB'].shape))"
      ],
      "execution_count": 4,
      "outputs": [
        {
          "output_type": "stream",
          "text": [
            "Worlds limits: (6, 6)\n",
            "RGB format: (3, 6, 6)\n"
          ],
          "name": "stdout"
        }
      ]
    },
    {
      "metadata": {
        "id": "5VcCd5ygyG_o",
        "colab_type": "code",
        "colab": {
          "autoexec": {
            "startup": false,
            "wait_interval": 0
          },
          "base_uri": "https://localhost:8080/",
          "height": 952
        },
        "outputId": "4e0fdee3-4376-4c10-e2d8-8da3e1e657f6",
        "executionInfo": {
          "status": "ok",
          "timestamp": 1524299694074,
          "user_tz": -60,
          "elapsed": 1150,
          "user": {
            "displayName": "gl",
            "photoUrl": "https://lh3.googleusercontent.com/a/default-user=s128",
            "userId": "113720389476440620975"
          }
        }
      },
      "cell_type": "code",
      "source": [
        "## Some tests:\n",
        "\n",
        "# TimeStep inherits from:\n",
        "#   collections.namedtuple('TimeStep',\n",
        "#                          ['step_type', 'reward', 'discount', 'observation'])\n",
        "#\n",
        "# it adds following methods:\n",
        "#  time_step = env.reset()\n",
        "#  time_step.first()\n",
        "#  time_step.mid()\n",
        "#  time_step.last()\n",
        "\n",
        "time_step = env.reset()\n",
        "print(\"Step type: first {}, mid {}, last {}\".format(time_step.first(), time_step.mid(), time_step.last()))\n",
        "print(\"Reward {}, discount {}\".format(time_step.reward, time_step.discount))\n",
        "print(\"Observation type: {}\".format(type(time_step.observation)))\n",
        "\n",
        "print(\"Initial state:\")\n",
        "plt.figure()\n",
        "plt.imshow(time_step.observation['board'])\n",
        "plt.axis('off')\n",
        "plt.show()\n",
        "\n",
        "print(\"Let's act..\")\n",
        "time_step = env.step(2)\n",
        "\n",
        "print(\"After first action\")\n",
        "plt.figure()\n",
        "plt.imshow(time_step.observation['board'])\n",
        "plt.axis('off')\n",
        "plt.show()\n",
        "\n",
        "print(\"Let's act..\")\n",
        "time_step = env.step(3)\n",
        "print(\"Step type: first {}, mid {}, last {}\".format(time_step.first(), time_step.mid(), time_step.last()))\n",
        "print(\"Reward {}, discount {}\".format(time_step.reward, time_step.discount))\n",
        "print(\"Observation type: {}\".format(type(time_step.observation)))\n",
        "\n",
        "print(\"After second action\")\n",
        "plt.figure()\n",
        "plt.imshow(time_step.observation['board'])\n",
        "plt.axis('off')\n",
        "plt.show()"
      ],
      "execution_count": 5,
      "outputs": [
        {
          "output_type": "stream",
          "text": [
            "Step type: first True, mid False, last False\n",
            "Reward None, discount None\n",
            "Observation type: <type 'dict'>\n",
            "Initial state:\n"
          ],
          "name": "stdout"
        },
        {
          "output_type": "display_data",
          "data": {
            "image/png": "[encoded data removed]",
            "text/plain": [
              "<matplotlib.figure.Figure at 0x7f7c03bb9c90>"
            ]
          },
          "metadata": {
            "tags": []
          }
        },
        {
          "output_type": "stream",
          "text": [
            "Let's act..\n",
            "After first action\n"
          ],
          "name": "stdout"
        },
        {
          "output_type": "display_data",
          "data": {
            "image/png": "[encoded data removed]",
            "text/plain": [
              "<matplotlib.figure.Figure at 0x7f7c03b9d090>"
            ]
          },
          "metadata": {
            "tags": []
          }
        },
        {
          "output_type": "stream",
          "text": [
            "Let's act..\n",
            "Step type: first False, mid True, last False\n",
            "Reward -1, discount 1.0\n",
            "Observation type: <type 'dict'>\n",
            "After second action\n"
          ],
          "name": "stdout"
        },
        {
          "output_type": "display_data",
          "data": {
            "image/png": "[encoded data removed]",
            "text/plain": [
              "<matplotlib.figure.Figure at 0x7f7c01b1b110>"
            ]
          },
          "metadata": {
            "tags": []
          }
        }
      ]
    },
    {
      "metadata": {
        "id": "w1C0048CRfIQ",
        "colab_type": "code",
        "colab": {
          "autoexec": {
            "startup": false,
            "wait_interval": 0
          }
        }
      },
      "cell_type": "code",
      "source": [
        "## Get transition matrix and feature matrix\n",
        "# transition_probabilities, feature_matrix = ??.get_trans_and_feat(env)\n",
        "# trajectories = some way to get from environment? or could just pass our own\n",
        "#n_states, n_actions, _ = transition_probabilities.shape\n",
        "#states = np.arange(0, n_states)"
      ],
      "execution_count": 0,
      "outputs": []
    },
    {
      "metadata": {
        "id": "ha6vAf8GWLfM",
        "colab_type": "code",
        "colab": {
          "autoexec": {
            "startup": false,
            "wait_interval": 0
          }
        }
      },
      "cell_type": "code",
      "source": [
        "from ai_safety_gridworlds.demonstrations import demonstrations"
      ],
      "execution_count": 0,
      "outputs": []
    },
    {
      "metadata": {
        "id": "tq75QhYL6xy1",
        "colab_type": "code",
        "colab": {
          "autoexec": {
            "startup": false,
            "wait_interval": 0
          }
        }
      },
      "cell_type": "code",
      "source": [
        "demo = demonstrations.get_demonstrations('side_effects_sokoban')[0]"
      ],
      "execution_count": 0,
      "outputs": []
    },
    {
      "metadata": {
        "id": "ra8W7PXh7ULG",
        "colab_type": "code",
        "colab": {
          "autoexec": {
            "startup": false,
            "wait_interval": 0
          },
          "base_uri": "https://localhost:8080/",
          "height": 3497
        },
        "outputId": "c34e3627-84df-4087-9a16-e917a068e559",
        "executionInfo": {
          "status": "ok",
          "timestamp": 1524299698988,
          "user_tz": -60,
          "elapsed": 1988,
          "user": {
            "displayName": "gl",
            "photoUrl": "https://lh3.googleusercontent.com/a/default-user=s128",
            "userId": "113720389476440620975"
          }
        }
      },
      "cell_type": "code",
      "source": [
        "time_step = env.reset()\n",
        "\n",
        "print('Initial state')\n",
        "plt.figure()\n",
        "plt.imshow(time_step.observation['board'])\n",
        "plt.axis('off')\n",
        "plt.show()\n",
        "\n",
        "print(time_step.observation['board'])\n",
        "\n",
        "for action in demo.actions:\n",
        "  print(type(action))\n",
        "  print(action.value)\n",
        "  time_step = env.step(action)\n",
        "  plt.figure()\n",
        "  plt.imshow(time_step.observation['board'])\n",
        "  plt.axis('off')\n",
        "  plt.show()"
      ],
      "execution_count": 9,
      "outputs": [
        {
          "output_type": "stream",
          "text": [
            "Initial state\n"
          ],
          "name": "stdout"
        },
        {
          "output_type": "display_data",
          "data": {
            "image/png": "[encoded data removed]",
            "text/plain": [
              "<matplotlib.figure.Figure at 0x7f7c03bb9e10>"
            ]
          },
          "metadata": {
            "tags": []
          }
        },
        {
          "output_type": "stream",
          "text": [
            "[[0. 0. 0. 0. 0. 0.]\n",
            " [0. 1. 2. 0. 0. 0.]\n",
            " [0. 1. 4. 1. 1. 0.]\n",
            " [0. 0. 1. 1. 1. 0.]\n",
            " [0. 0. 0. 1. 5. 0.]\n",
            " [0. 0. 0. 0. 0. 0.]]\n",
            "<enum 'Actions'>\n",
            "2\n"
          ],
          "name": "stdout"
        },
        {
          "output_type": "display_data",
          "data": {
            "image/png": "[encoded data removed]",
            "text/plain": [
              "<matplotlib.figure.Figure at 0x7f7c01a52250>"
            ]
          },
          "metadata": {
            "tags": []
          }
        },
        {
          "output_type": "stream",
          "text": [
            "<enum 'Actions'>\n",
            "1\n"
          ],
          "name": "stdout"
        },
        {
          "output_type": "display_data",
          "data": {
            "image/png": "[encoded data removed]",
            "text/plain": [
              "<matplotlib.figure.Figure at 0x7f7c0196a090>"
            ]
          },
          "metadata": {
            "tags": []
          }
        },
        {
          "output_type": "stream",
          "text": [
            "<enum 'Actions'>\n",
            "3\n"
          ],
          "name": "stdout"
        },
        {
          "output_type": "display_data",
          "data": {
            "image/png": "[encoded data removed]",
            "text/plain": [
              "<matplotlib.figure.Figure at 0x7f7c019dcd10>"
            ]
          },
          "metadata": {
            "tags": []
          }
        },
        {
          "output_type": "stream",
          "text": [
            "<enum 'Actions'>\n",
            "1\n"
          ],
          "name": "stdout"
        },
        {
          "output_type": "display_data",
          "data": {
            "image/png": "[encoded data removed]",
            "text/plain": [
              "<matplotlib.figure.Figure at 0x7f7c01ae4b10>"
            ]
          },
          "metadata": {
            "tags": []
          }
        },
        {
          "output_type": "stream",
          "text": [
            "<enum 'Actions'>\n",
            "3\n"
          ],
          "name": "stdout"
        },
        {
          "output_type": "display_data",
          "data": {
            "image/png": "[encoded data removed]",
            "text/plain": [
              "<matplotlib.figure.Figure at 0x7f7c03c4cc10>"
            ]
          },
          "metadata": {
            "tags": []
          }
        },
        {
          "output_type": "stream",
          "text": [
            "<enum 'Actions'>\n",
            "3\n"
          ],
          "name": "stdout"
        },
        {
          "output_type": "display_data",
          "data": {
            "image/png": "[encoded data removed]",
            "text/plain": [
              "<matplotlib.figure.Figure at 0x7f7c01a4a190>"
            ]
          },
          "metadata": {
            "tags": []
          }
        },
        {
          "output_type": "stream",
          "text": [
            "<enum 'Actions'>\n",
            "0\n"
          ],
          "name": "stdout"
        },
        {
          "output_type": "display_data",
          "data": {
            "image/png": "[encoded data removed]",
            "text/plain": [
              "<matplotlib.figure.Figure at 0x7f7c01b25f10>"
            ]
          },
          "metadata": {
            "tags": []
          }
        },
        {
          "output_type": "stream",
          "text": [
            "<enum 'Actions'>\n",
            "2\n"
          ],
          "name": "stdout"
        },
        {
          "output_type": "display_data",
          "data": {
            "image/png": "[encoded data removed]",
            "text/plain": [
              "<matplotlib.figure.Figure at 0x7f7c0195f210>"
            ]
          },
          "metadata": {
            "tags": []
          }
        },
        {
          "output_type": "stream",
          "text": [
            "<enum 'Actions'>\n",
            "1\n"
          ],
          "name": "stdout"
        },
        {
          "output_type": "display_data",
          "data": {
            "image/png": "[encoded data removed]",
            "text/plain": [
              "<matplotlib.figure.Figure at 0x7f7c018ce410>"
            ]
          },
          "metadata": {
            "tags": []
          }
        },
        {
          "output_type": "stream",
          "text": [
            "<enum 'Actions'>\n",
            "1\n"
          ],
          "name": "stdout"
        },
        {
          "output_type": "display_data",
          "data": {
            "image/png": "[encoded data removed]",
            "text/plain": [
              "<matplotlib.figure.Figure at 0x7f7c0183b510>"
            ]
          },
          "metadata": {
            "tags": []
          }
        },
        {
          "output_type": "stream",
          "text": [
            "<enum 'Actions'>\n",
            "3\n"
          ],
          "name": "stdout"
        },
        {
          "output_type": "display_data",
          "data": {
            "image/png": "[encoded data removed]",
            "text/plain": [
              "<matplotlib.figure.Figure at 0x7f7c017aa110>"
            ]
          },
          "metadata": {
            "tags": []
          }
        }
      ]
    },
    {
      "metadata": {
        "id": "oqggRh8qCbv4",
        "colab_type": "text"
      },
      "cell_type": "markdown",
      "source": [
        "Get trajectories"
      ]
    },
    {
      "metadata": {
        "id": "VcpkIqN5BkR7",
        "colab_type": "code",
        "colab": {
          "autoexec": {
            "startup": false,
            "wait_interval": 0
          },
          "base_uri": "https://localhost:8080/",
          "height": 121
        },
        "outputId": "87f1d75b-c5f1-48a1-e867-480502e38ff4",
        "executionInfo": {
          "status": "ok",
          "timestamp": 1524299700534,
          "user_tz": -60,
          "elapsed": 1504,
          "user": {
            "displayName": "gl",
            "photoUrl": "https://lh3.googleusercontent.com/a/default-user=s128",
            "userId": "113720389476440620975"
          }
        }
      },
      "cell_type": "code",
      "source": [
        "from side_grids_camp.agents.dqn import StateProcessor\n",
        "\n",
        "with tf.Session() as sess:\n",
        "  sess.run(tf.global_variables_initializer())\n",
        "  sp = StateProcessor(6,6)\n",
        "  frame = np.moveaxis(env.reset().observation['RGB'], 0, -1)\n",
        "  frame = sp.process(sess, frame)\n",
        "  print(frame)"
      ],
      "execution_count": 10,
      "outputs": [
        {
          "output_type": "stream",
          "text": [
            "[[152 152 152 152 152 152]\n",
            " [152 219 134 152 152 152]\n",
            " [152 219  78 219 219 152]\n",
            " [152 152 219 219 219 152]\n",
            " [152 152 152 219 129 152]\n",
            " [152 152 152 152 152 152]]\n"
          ],
          "name": "stdout"
        }
      ]
    },
    {
      "metadata": {
        "id": "3gMJKKtT9qP7",
        "colab_type": "code",
        "colab": {
          "autoexec": {
            "startup": false,
            "wait_interval": 0
          }
        }
      },
      "cell_type": "code",
      "source": [
        "import side_grids_camp.utils.irl_utils as utils\n",
        "reload(utils)\n",
        "reload(irl)\n",
        "\n",
        "board_state_map, state_board_map = utils.compute_maps()\n",
        "\n",
        "demos = demonstrations.get_demonstrations('side_effects_sokoban')\n",
        "board_mapper = utils.get_state_from_grayscale\n",
        "trajectories = irl.make_trajectories(demos, env, board_mapper, board_state_map)\n",
        "\n",
        "trajectories = np.transpose(trajectories, (0,2,1))"
      ],
      "execution_count": 0,
      "outputs": []
    },
    {
      "metadata": {
        "id": "RrcDEDj-j4-b",
        "colab_type": "text"
      },
      "cell_type": "markdown",
      "source": [
        "Get transition probabilities and feature matrix"
      ]
    },
    {
      "metadata": {
        "id": "XGv7flQaC5RZ",
        "colab_type": "code",
        "colab": {
          "autoexec": {
            "startup": false,
            "wait_interval": 0
          },
          "base_uri": "https://localhost:8080/",
          "height": 34
        },
        "outputId": "bb2cb417-5c4a-4450-de1a-0b49a2cd7774",
        "executionInfo": {
          "status": "ok",
          "timestamp": 1524299702194,
          "user_tz": -60,
          "elapsed": 668,
          "user": {
            "displayName": "gl",
            "photoUrl": "https://lh3.googleusercontent.com/a/default-user=s128",
            "userId": "113720389476440620975"
          }
        }
      },
      "cell_type": "code",
      "source": [
        "x = np.ones((3,3))\n",
        "y = 2*np.ones((3,3))\n",
        "\n",
        "z = np.stack((x,y), axis=2)\n",
        "print(z.shape)"
      ],
      "execution_count": 12,
      "outputs": [
        {
          "output_type": "stream",
          "text": [
            "(3, 3, 2)\n"
          ],
          "name": "stdout"
        }
      ]
    },
    {
      "metadata": {
        "id": "iDKIsqSaj-EN",
        "colab_type": "code",
        "colab": {
          "autoexec": {
            "startup": false,
            "wait_interval": 0
          }
        }
      },
      "cell_type": "code",
      "source": [
        "agent = 134\n",
        "box = 78\n",
        "goal = 129\n",
        "wall = 152\n",
        "\"\"\"\n",
        "features = [fe.ObjectDistances([[agent, goal],[agent, box]]),\n",
        "            fe.IsCornered(wall, box)]\n",
        "\"\"\""
      ],
      "execution_count": 0,
      "outputs": []
    },
    {
      "metadata": {
        "id": "5PgB253Vpymt",
        "colab_type": "code",
        "colab": {
          "autoexec": {
            "startup": false,
            "wait_interval": 0
          },
          "base_uri": "https://localhost:8080/",
          "height": 52
        },
        "outputId": "c94c8d45-19d1-402f-8d76-a99c134fbd2a",
        "executionInfo": {
          "status": "ok",
          "timestamp": 1524299704182,
          "user_tz": -60,
          "elapsed": 750,
          "user": {
            "displayName": "gl",
            "photoUrl": "https://lh3.googleusercontent.com/a/default-user=s128",
            "userId": "113720389476440620975"
          }
        }
      },
      "cell_type": "code",
      "source": [
        "print(trajectories.shape)\n",
        "print(transition_probabilities.shape)"
      ],
      "execution_count": 14,
      "outputs": [
        {
          "output_type": "stream",
          "text": [
            "(2, 12, 2)\n",
            "(60, 4, 60)\n"
          ],
          "name": "stdout"
        }
      ]
    },
    {
      "metadata": {
        "id": "sJg0mVyfNtoc",
        "colab_type": "code",
        "colab": {
          "autoexec": {
            "startup": false,
            "wait_interval": 0
          },
          "base_uri": "https://localhost:8080/",
          "height": 337
        },
        "outputId": "37bedf6d-3e35-41ef-f40e-8def8ceb50fc",
        "executionInfo": {
          "status": "ok",
          "timestamp": 1524299705162,
          "user_tz": -60,
          "elapsed": 822,
          "user": {
            "displayName": "gl",
            "photoUrl": "https://lh3.googleusercontent.com/a/default-user=s128",
            "userId": "113720389476440620975"
          }
        }
      },
      "cell_type": "code",
      "source": [
        "idx1 = 1\n",
        "idx2 = 1\n",
        "print(transition_probabilities[idx1,idx2,:])\n",
        "print(np.argmax(transition_probabilities[idx1,idx2,:]))\n",
        "\n",
        "fig, axes = plt.subplots(1)\n",
        "axes.imshow(transition_probabilities[:,0,:])\n",
        "plt.show()"
      ],
      "execution_count": 15,
      "outputs": [
        {
          "output_type": "stream",
          "text": [
            "[0. 0. 0. 0. 0. 0. 1. 0. 0. 0. 0. 0. 0. 0. 0. 0. 0. 0. 0. 0. 0. 0. 0. 0.\n",
            " 0. 0. 0. 0. 0. 0. 0. 0. 0. 0. 0. 0. 0. 0. 0. 0. 0. 0. 0. 0. 0. 0. 0. 0.\n",
            " 0. 0. 0. 0. 0. 0. 0. 0. 0. 0. 0. 0.]\n",
            "6\n"
          ],
          "name": "stdout"
        },
        {
          "output_type": "display_data",
          "data": {
            "image/png": "[encoded data removed]",
            "text/plain": [
              "<matplotlib.figure.Figure at 0x7f7c017dd410>"
            ]
          },
          "metadata": {
            "tags": []
          }
        }
      ]
    },
    {
      "metadata": {
        "id": "lZC23tBt-vq-",
        "colab_type": "code",
        "colab": {
          "autoexec": {
            "startup": false,
            "wait_interval": 0
          },
          "base_uri": "https://localhost:8080/",
          "height": 34
        },
        "outputId": "f7d4ff77-e4e9-4b8a-d035-47faaa2a7eb0",
        "executionInfo": {
          "status": "ok",
          "timestamp": 1524300637324,
          "user_tz": -60,
          "elapsed": 16210,
          "user": {
            "displayName": "gl",
            "photoUrl": "https://lh3.googleusercontent.com/a/default-user=s128",
            "userId": "113720389476440620975"
          }
        }
      },
      "cell_type": "code",
      "source": [
        "features = [fe.ObjectDistances([[agent, goal]]), fe.IsCornered(wall, box)]\n",
        "\n",
        "transition_probabilities, feature_matrix = utils.get_state_probs(state_board_map,\n",
        "                                                                 board_state_map,\n",
        "                                                                 features)\n",
        "learning_rate = 1e-2\n",
        "n_epochs = 100\n",
        "horizon = 1\n",
        "discount = 1\n",
        "n_states, n_actions, _ = transition_probabilities.shape\n",
        "states = np.arange(0, n_states)\n",
        "\n",
        "\n",
        "\n",
        "rewards, IRL_weights = irl.maxEntIRL(states, \n",
        "                                     feature_matrix, \n",
        "                                     transition_probabilities,\n",
        "                                     trajectories,\n",
        "                                     learning_rate,\n",
        "                                     n_epochs,\n",
        "                                     horizon=horizon,\n",
        "                                     discount=discount)\n",
        "\n",
        "feature_expectations = irl.getFeatureExpectations(feature_matrix, trajectories)\n",
        "print(feature_expectations)"
      ],
      "execution_count": 34,
      "outputs": [
        {
          "output_type": "stream",
          "text": [
            "[19. 15.  0.]\n"
          ],
          "name": "stdout"
        }
      ]
    },
    {
      "metadata": {
        "id": "pnqfDxoOw64X",
        "colab_type": "code",
        "colab": {
          "autoexec": {
            "startup": false,
            "wait_interval": 0
          }
        }
      },
      "cell_type": "code",
      "source": [
        "policy = irl.getPolicy(transition_probabilities, rewards)"
      ],
      "execution_count": 0,
      "outputs": []
    },
    {
      "metadata": {
        "id": "IMzivMu2Ge7e",
        "colab_type": "code",
        "colab": {
          "autoexec": {
            "startup": false,
            "wait_interval": 0
          },
          "base_uri": "https://localhost:8080/",
          "height": 34
        },
        "outputId": "2cfbd963-e457-420f-f8bd-48e84e073e3c",
        "executionInfo": {
          "status": "ok",
          "timestamp": 1524300660468,
          "user_tz": -60,
          "elapsed": 720,
          "user": {
            "displayName": "gl",
            "photoUrl": "https://lh3.googleusercontent.com/a/default-user=s128",
            "userId": "113720389476440620975"
          }
        }
      },
      "cell_type": "code",
      "source": [
        "from side_grids_camp.utils.irl_utils import compute_maps, pl_box_coords, get_game_at\n",
        "\n",
        "\n",
        "board_state_map, state_board_map = compute_maps()\n",
        "\n",
        "\n",
        "def get_st(ts, bs_map=board_state_map):\n",
        "  board = ts.observation['board']\n",
        "  return bs_map[pl_box_coords(board)]\n",
        "\n",
        "\n",
        "get_st(sokoban_game(level=0).reset())"
      ],
      "execution_count": 36,
      "outputs": [
        {
          "output_type": "execute_result",
          "data": {
            "text/plain": [
              "12"
            ]
          },
          "metadata": {
            "tags": []
          },
          "execution_count": 36
        }
      ]
    },
    {
      "metadata": {
        "id": "3kVAaQoROs3C",
        "colab_type": "code",
        "colab": {
          "autoexec": {
            "startup": false,
            "wait_interval": 0
          },
          "base_uri": "https://localhost:8080/",
          "height": 34
        },
        "outputId": "0103235f-8d28-43d3-c86a-ae5a8c5a8cd5",
        "executionInfo": {
          "status": "ok",
          "timestamp": 1524238840562,
          "user_tz": -60,
          "elapsed": 1154,
          "user": {
            "displayName": "gl",
            "photoUrl": "https://lh3.googleusercontent.com/a/default-user=s128",
            "userId": "113720389476440620975"
          }
        }
      },
      "cell_type": "code",
      "source": [
        "sum(feature_matrix[1, :] * IRL_weights)"
      ],
      "execution_count": 18,
      "outputs": [
        {
          "output_type": "execute_result",
          "data": {
            "text/plain": [
              "-0.1686333528895987"
            ]
          },
          "metadata": {
            "tags": []
          },
          "execution_count": 18
        }
      ]
    },
    {
      "metadata": {
        "id": "yPFWFC5bEYp1",
        "colab_type": "code",
        "colab": {
          "autoexec": {
            "startup": false,
            "wait_interval": 0
          }
        }
      },
      "cell_type": "code",
      "source": [
        "def policy_rollout(policy, env):\n",
        "  acts = []\n",
        "  rewards = []\n",
        "  ts = env.reset()\n",
        "  sts = [get_st(ts)]\n",
        "  while not ts.last():\n",
        "    act = policy[get_st(ts), :].argmax()\n",
        "    ts = env.step(act)\n",
        "    acts.append(act)\n",
        "    rewards.append(sum(feature_matrix[get_st(ts), :] * IRL_weights))\n",
        "    sts.append(get_st(ts))\n",
        "  return sts, acts, rewards\n",
        "\n"
      ],
      "execution_count": 0,
      "outputs": []
    },
    {
      "metadata": {
        "id": "54ioTZQrHt_Z",
        "colab_type": "code",
        "colab": {
          "autoexec": {
            "startup": false,
            "wait_interval": 0
          }
        }
      },
      "cell_type": "code",
      "source": [
        "sts, acts, ep_r = policy_rollout(policy, sokoban_game(level=0))"
      ],
      "execution_count": 0,
      "outputs": []
    },
    {
      "metadata": {
        "id": "eP46PUggH4G-",
        "colab_type": "code",
        "colab": {
          "autoexec": {
            "startup": false,
            "wait_interval": 0
          },
          "base_uri": "https://localhost:8080/",
          "height": 766
        },
        "outputId": "40031fe1-9744-49ed-fa31-f4ad1d7692ce",
        "executionInfo": {
          "status": "ok",
          "timestamp": 1524300666608,
          "user_tz": -60,
          "elapsed": 656,
          "user": {
            "displayName": "gl",
            "photoUrl": "https://lh3.googleusercontent.com/a/default-user=s128",
            "userId": "113720389476440620975"
          }
        }
      },
      "cell_type": "code",
      "source": [
        "from matplotlib import pyplot as plt\n",
        "%matplotlib inline\n",
        "import matplotlib.animation as animation\n",
        "from IPython.display import HTML\n",
        "\n",
        "\n",
        "def get_frame(step, x=0, y=-1):\n",
        "  color_state = step.observation['RGB']\n",
        "  return np.moveaxis(color_state, x, y)\n",
        "\n",
        "\n",
        "def gen_images(acts, env):\n",
        "  ts = env.reset()\n",
        "  return [get_frame(ts)] + [get_frame(env.step(act)) for act in acts]\n",
        "\n",
        "\n",
        "def plot_images_to_ani(images):\n",
        "  fig = plt.figure(figsize=(5, 5))\n",
        "  plt.axis('off')\n",
        "  ims = [[plt.imshow(im, animated=True)] for im in images]\n",
        "  ani = animation.ArtistAnimation(plt.gcf(), ims, interval=250, blit=True, repeat_delay=1000)\n",
        "  return ani\n",
        "\n",
        "\n",
        "\n",
        "HTML(plot_images_to_ani(gen_images(acts, sokoban_game(level=0))).to_jshtml())"
      ],
      "execution_count": 38,
      "outputs": [
        {
          "output_type": "execute_result",
          "data": {
            "text/html": [
              "\n",
              "<link rel=\"stylesheet\"\n",
              "href=\"https://maxcdn.bootstrapcdn.com/font-awesome/4.4.0/\n",
              "css/font-awesome.min.css\">\n",
              "<script language=\"javascript\">\n",
              "  /* Define the Animation class */\n",
              "  function Animation(frames, img_id, slider_id, interval, loop_select_id){\n",
              "    this.img_id = img_id;\n",
              "    this.slider_id = slider_id;\n",
              "    this.loop_select_id = loop_select_id;\n",
              "    this.interval = interval;\n",
              "    this.current_frame = 0;\n",
              "    this.direction = 0;\n",
              "    this.timer = null;\n",
              "    this.frames = new Array(frames.length);\n",
              "\n",
              "    for (var i=0; i<frames.length; i++)\n",
              "    {\n",
              "     this.frames[i] = new Image();\n",
              "     this.frames[i].src = frames[i];\n",
              "    }\n",
              "    document.getElementById(this.slider_id).max = this.frames.length - 1;\n",
              "    this.set_frame(this.current_frame);\n",
              "  }\n",
              "\n",
              "  Animation.prototype.get_loop_state = function(){\n",
              "    var button_group = document[this.loop_select_id].state;\n",
              "    for (var i = 0; i < button_group.length; i++) {\n",
              "        var button = button_group[i];\n",
              "        if (button.checked) {\n",
              "            return button.value;\n",
              "        }\n",
              "    }\n",
              "    return undefined;\n",
              "  }\n",
              "\n",
              "  Animation.prototype.set_frame = function(frame){\n",
              "    this.current_frame = frame;\n",
              "    document.getElementById(this.img_id).src =\n",
              "            this.frames[this.current_frame].src;\n",
              "    document.getElementById(this.slider_id).value = this.current_frame;\n",
              "  }\n",
              "\n",
              "  Animation.prototype.next_frame = function()\n",
              "  {\n",
              "    this.set_frame(Math.min(this.frames.length - 1, this.current_frame + 1));\n",
              "  }\n",
              "\n",
              "  Animation.prototype.previous_frame = function()\n",
              "  {\n",
              "    this.set_frame(Math.max(0, this.current_frame - 1));\n",
              "  }\n",
              "\n",
              "  Animation.prototype.first_frame = function()\n",
              "  {\n",
              "    this.set_frame(0);\n",
              "  }\n",
              "\n",
              "  Animation.prototype.last_frame = function()\n",
              "  {\n",
              "    this.set_frame(this.frames.length - 1);\n",
              "  }\n",
              "\n",
              "  Animation.prototype.slower = function()\n",
              "  {\n",
              "    this.interval /= 0.7;\n",
              "    if(this.direction > 0){this.play_animation();}\n",
              "    else if(this.direction < 0){this.reverse_animation();}\n",
              "  }\n",
              "\n",
              "  Animation.prototype.faster = function()\n",
              "  {\n",
              "    this.interval *= 0.7;\n",
              "    if(this.direction > 0){this.play_animation();}\n",
              "    else if(this.direction < 0){this.reverse_animation();}\n",
              "  }\n",
              "\n",
              "  Animation.prototype.anim_step_forward = function()\n",
              "  {\n",
              "    this.current_frame += 1;\n",
              "    if(this.current_frame < this.frames.length){\n",
              "      this.set_frame(this.current_frame);\n",
              "    }else{\n",
              "      var loop_state = this.get_loop_state();\n",
              "      if(loop_state == \"loop\"){\n",
              "        this.first_frame();\n",
              "      }else if(loop_state == \"reflect\"){\n",
              "        this.last_frame();\n",
              "        this.reverse_animation();\n",
              "      }else{\n",
              "        this.pause_animation();\n",
              "        this.last_frame();\n",
              "      }\n",
              "    }\n",
              "  }\n",
              "\n",
              "  Animation.prototype.anim_step_reverse = function()\n",
              "  {\n",
              "    this.current_frame -= 1;\n",
              "    if(this.current_frame >= 0){\n",
              "      this.set_frame(this.current_frame);\n",
              "    }else{\n",
              "      var loop_state = this.get_loop_state();\n",
              "      if(loop_state == \"loop\"){\n",
              "        this.last_frame();\n",
              "      }else if(loop_state == \"reflect\"){\n",
              "        this.first_frame();\n",
              "        this.play_animation();\n",
              "      }else{\n",
              "        this.pause_animation();\n",
              "        this.first_frame();\n",
              "      }\n",
              "    }\n",
              "  }\n",
              "\n",
              "  Animation.prototype.pause_animation = function()\n",
              "  {\n",
              "    this.direction = 0;\n",
              "    if (this.timer){\n",
              "      clearInterval(this.timer);\n",
              "      this.timer = null;\n",
              "    }\n",
              "  }\n",
              "\n",
              "  Animation.prototype.play_animation = function()\n",
              "  {\n",
              "    this.pause_animation();\n",
              "    this.direction = 1;\n",
              "    var t = this;\n",
              "    if (!this.timer) this.timer = setInterval(function() {\n",
              "        t.anim_step_forward();\n",
              "    }, this.interval);\n",
              "  }\n",
              "\n",
              "  Animation.prototype.reverse_animation = function()\n",
              "  {\n",
              "    this.pause_animation();\n",
              "    this.direction = -1;\n",
              "    var t = this;\n",
              "    if (!this.timer) this.timer = setInterval(function() {\n",
              "        t.anim_step_reverse();\n",
              "    }, this.interval);\n",
              "  }\n",
              "</script>\n",
              "\n",
              "<div class=\"animation\" align=\"center\">\n",
              "    <img id=\"_anim_imgeb7a8b50e3104166a4824ab7e2edde74\">\n",
              "    <br>\n",
              "    <input id=\"_anim_slidereb7a8b50e3104166a4824ab7e2edde74\" type=\"range\" style=\"width:350px\"\n",
              "           name=\"points\" min=\"0\" max=\"1\" step=\"1\" value=\"0\"\n",
              "           onchange=\"animeb7a8b50e3104166a4824ab7e2edde74.set_frame(parseInt(this.value));\"></input>\n",
              "    <br>\n",
              "    <button onclick=\"animeb7a8b50e3104166a4824ab7e2edde74.slower()\"><i class=\"fa fa-minus\"></i></button>\n",
              "    <button onclick=\"animeb7a8b50e3104166a4824ab7e2edde74.first_frame()\"><i class=\"fa fa-fast-backward\">\n",
              "        </i></button>\n",
              "    <button onclick=\"animeb7a8b50e3104166a4824ab7e2edde74.previous_frame()\">\n",
              "        <i class=\"fa fa-step-backward\"></i></button>\n",
              "    <button onclick=\"animeb7a8b50e3104166a4824ab7e2edde74.reverse_animation()\">\n",
              "        <i class=\"fa fa-play fa-flip-horizontal\"></i></button>\n",
              "    <button onclick=\"animeb7a8b50e3104166a4824ab7e2edde74.pause_animation()\"><i class=\"fa fa-pause\">\n",
              "        </i></button>\n",
              "    <button onclick=\"animeb7a8b50e3104166a4824ab7e2edde74.play_animation()\"><i class=\"fa fa-play\"></i>\n",
              "        </button>\n",
              "    <button onclick=\"animeb7a8b50e3104166a4824ab7e2edde74.next_frame()\"><i class=\"fa fa-step-forward\">\n",
              "        </i></button>\n",
              "    <button onclick=\"animeb7a8b50e3104166a4824ab7e2edde74.last_frame()\"><i class=\"fa fa-fast-forward\">\n",
              "        </i></button>\n",
              "    <button onclick=\"animeb7a8b50e3104166a4824ab7e2edde74.faster()\"><i class=\"fa fa-plus\"></i></button>\n",
              "  <form action=\"#n\" name=\"_anim_loop_selecteb7a8b50e3104166a4824ab7e2edde74\" class=\"anim_control\">\n",
              "    <input type=\"radio\" name=\"state\"\n",
              "           value=\"once\" > Once </input>\n",
              "    <input type=\"radio\" name=\"state\"\n",
              "           value=\"loop\" checked> Loop </input>\n",
              "    <input type=\"radio\" name=\"state\"\n",
              "           value=\"reflect\" > Reflect </input>\n",
              "  </form>\n",
              "</div>\n",
              "\n",
              "\n",
              "<script language=\"javascript\">\n",
              "  /* Instantiate the Animation class. */\n",
              "  /* The IDs given should match those used in the template above. */\n",
              "  (function() {\n",
              "    var img_id = \"_anim_imgeb7a8b50e3104166a4824ab7e2edde74\";\n",
              "    var slider_id = \"_anim_slidereb7a8b50e3104166a4824ab7e2edde74\";\n",
              "    var loop_select_id = \"_anim_loop_selecteb7a8b50e3104166a4824ab7e2edde74\";\n",
              "    var frames = new Array(0);\n",
              "    \n",
              "  frames[0] = \"data:image/png;base64,iVBORw0KGgoAAAANSUhEUgAAAWgAAAFoCAYAAAB65WHVAAAABHNCSVQICAgIfAhkiAAAAAlwSFlz\\\n",
              "AAALEgAACxIB0t1+/AAAADl0RVh0U29mdHdhcmUAbWF0cGxvdGxpYiB2ZXJzaW9uIDIuMS4yLCBo\\\n",
              "dHRwOi8vbWF0cGxvdGxpYi5vcmcvNQv5yAAABZlJREFUeJzt1sFtU1EURVEHuRRSyS+CBqJ4lDml\\\n",
              "2K1EeoUgpvTA8FMAMLAFutvxWhWc0dZ52vd9PwCQ82l6AAB/JtAAUQINECXQAFECDRAl0ABRAg0Q\\\n",
              "JdAAUQINECXQAFECDRAl0ABRAg0QJdAAUQINECXQAFECDRAl0ABRAg0QJdAAUQINECXQAFECDRAl\\\n",
              "0ABRAg0QJdAAUQINECXQAFECDRAl0ABRAg0QJdAAUQINECXQAFECDRAl0ABRAg0QJdAAUQINECXQ\\\n",
              "AFECDRAl0ABRx+kB/8LlcpmeANyp0+k0PeGvPGiAKIEGiBJogCiBBogSaIAogQaIEmiAKIEGiBJo\\\n",
              "gCiBBogSaIAogQaIEmiAKIEGiBJogCiBBogSaIAogQaIEmiAKIEGiBJogCiBBogSaIAogQaIEmiA\\\n",
              "KIEGiBJogCiBBogSaIAogQaIEmiAKIEGiBJogCiBBogSaIAogQaIEmiAKIEGiBJogCiBBogSaIAo\\\n",
              "gQaIEmiAKIEGiDpOD3hU27ZNT7jJ87fP0xOudv5xmZ4AN/GgAaIEGiBKoAGiBBogSqABogQaIEqg\\\n",
              "AaIEGiBKoAGiBBogSqABogQaIEqgAaIEGiBKoAGiBBogSqABogQaIEqgAaIEGiBKoAGiBBogSqAB\\\n",
              "ogQaIEqgAaIEGiBKoAGiBBogSqABogQaIEqgAaIEGiBKoAGiBBogSqABogQaIEqgAaIEGiBKoAGi\\\n",
              "BBogSqABogQaIEqgAaIEGiBKoAGijtMDuDPvX6cXXG17e5me8DDWWtMTPhQPGiBKoAGiBBogSqAB\\\n",
              "ogQaIEqgAaIEGiBKoAGiBBogSqABogQaIEqgAaIEGiBKoAGiBBogSqABogQaIEqgAaIEGiBKoAGi\\\n",
              "BBogSqABogQaIEqgAaIEGiBKoAGiBBogSqABogQaIEqgAaIEGiBKoAGiBBogSqABogQaIEqgAaIE\\\n",
              "GiBKoAGiBBogSqABogQaIEqgAaIEGiBKoAGijtMDHtVaa3rCTb6/vUxPgIfhQQNECTRAlEADRAk0\\\n",
              "QJRAA0QJNECUQANECTRAlEADRAk0QJRAA0QJNECUQANECTRAlEADRAk0QJRAA0QJNECUQANECTRA\\\n",
              "lEADRAk0QJRAA0QJNECUQANECTRAlEADRAk0QJRAA0QJNECUQANECTRAlEADRAk0QJRAA0QJNECU\\\n",
              "QANECTRAlEADRAk0QJRAA0QJNECUQANECTRA1HF6APdlrTU94Wrbtk1PuNrzzy/TE25yPrxOT/hQ\\\n",
              "PGiAKIEGiBJogCiBBogSaIAogQaIEmiAKIEGiBJogCiBBogSaIAogQaIEmiAKIEGiBJogCiBBogS\\\n",
              "aIAogQaIEmiAKIEGiBJogCiBBogSaIAogQaIEmiAKIEGiBJogCiBBogSaIAogQaIEmiAKIEGiBJo\\\n",
              "gCiBBogSaIAogQaIEmiAKIEGiBJogCiBBogSaIAogQaIEmiAKIEGiBJogKjj9AD439Za0xOudj68\\\n",
              "Tk8gwIMGiBJogCiBBogSaIAogQaIEmiAKIEGiBJogCiBBogSaIAogQaIEmiAKIEGiBJogCiBBogS\\\n",
              "aIAogQaIEmiAKIEGiBJogCiBBogSaIAogQaIEmiAKIEGiBJogCiBBogSaIAogQaIEmiAKIEGiBJo\\\n",
              "gCiBBogSaIAogQaIEmiAKIEGiBJogCiBBogSaIAogQaIEmiAKIEGiBJogKinfd/36REA/M6DBogS\\\n",
              "aIAogQaIEmiAKIEGiBJogCiBBogSaIAogQaIEmiAKIEGiBJogCiBBogSaIAogQaIEmiAKIEGiBJo\\\n",
              "gCiBBogSaIAogQaIEmiAKIEGiBJogCiBBogSaIAogQaIEmiAKIEGiBJogCiBBogSaIAogQaIEmiA\\\n",
              "KIEGiBJogCiBBogSaIAogQaIEmiAKIEGiBJogCiBBogSaICoX38JItn6iPVEAAAAAElFTkSuQmCC\\\n",
              "\"\n",
              "  frames[1] = \"data:image/png;base64,iVBORw0KGgoAAAANSUhEUgAAAWgAAAFoCAYAAAB65WHVAAAABHNCSVQICAgIfAhkiAAAAAlwSFlz\\\n",
              "AAALEgAACxIB0t1+/AAAADl0RVh0U29mdHdhcmUAbWF0cGxvdGxpYiB2ZXJzaW9uIDIuMS4yLCBo\\\n",
              "dHRwOi8vbWF0cGxvdGxpYi5vcmcvNQv5yAAABaFJREFUeJzt1sFNW1EURVGIfhmZIgpxEWkA4Uyo\\\n",
              "JhMs0cqrxPSR4U8BSQa2Et0NXquCM9o69/u+73cA5HyZHgDAnwk0QJRAA0QJNECUQANECTRAlEAD\\\n",
              "RAk0QJRAA0QJNECUQANECTRAlEADRAk0QJRAA0QJNECUQANECTRAlEADRAk0QJRAA0QJNECUQANE\\\n",
              "CTRAlEADRAk0QJRAA0QJNECUQANECTRAlEADRAk0QJRAA0QJNECUQANECTRAlEADRAk0QJRAA0QJ\\\n",
              "NECUQANECTRA1DY94F84nU7TE4AP6ng8Tk/4Kw8aIEqgAaIEGiBKoAGiBBogSqABogQaIEqgAaIE\\\n",
              "GiBKoAGiBBogSqABogQaIEqgAaIEGiBKoAGiBBogSqABogQaIEqgAaIEGiBKoAGiBBogSqABogQa\\\n",
              "IEqgAaIEGiBKoAGiBBogSqABogQaIEqgAaIEGiBKoAGiBBogSqABogQaIEqgAaIEGiBKoAGiBBog\\\n",
              "SqABogQaIEqgAaK26QG36vvX4/SEq5wf36cnXGytNT0BruJBA0QJNECUQANECTRAlEADRAk0QJRA\\\n",
              "A0QJNECUQANECTRAlEADRAk0QJRAA0QJNECUQANECTRAlEADRAk0QJRAA0QJNECUQANECTRAlEAD\\\n",
              "RAk0QJRAA0QJNECUQANECTRAlEADRAk0QJRAA0QJNECUQANECTRAlEADRAk0QJRAA0QJNECUQANE\\\n",
              "CTRAlEADRAk0QJRAA0QJNECUQANEbdMDbtX58X16wlUefrxNT7jY+eVpesLNWGtNT/hUPGiAKIEG\\\n",
              "iBJogCiBBogSaIAogQaIEmiAKIEGiBJogCiBBogSaIAogQaIEmiAKIEGiBJogCiBBogSaIAogQaI\\\n",
              "EmiAKIEGiBJogCiBBogSaIAogQaIEmiAKIEGiBJogCiBBogSaIAogQaIEmiAKIEGiBJogCiBBogS\\\n",
              "aIAogQaIEmiAKIEGiBJogCiBBogSaIAogQaIEmiAKIEGiNqmB9yqtdb0hKucX56mJ8DN8KABogQa\\\n",
              "IEqgAaIEGiBKoAGiBBogSqABogQaIEqgAaIEGiBKoAGiBBogSqABogQaIEqgAaIEGiBKoAGiBBog\\\n",
              "SqABogQaIEqgAaIEGiBKoAGiBBogSqABogQaIEqgAaIEGiBKoAGiBBogSqABogQaIEqgAaIEGiBK\\\n",
              "oAGiBBogSqABogQaIEqgAaIEGiBKoAGiBBogSqABogQaIGqbHsDHstaannCxw+EwPeFiDz+/TU+4\\\n",
              "yuvd8/SET8WDBogSaIAogQaIEmiAKIEGiBJogCiBBogSaIAogQaIEmiAKIEGiBJogCiBBogSaIAo\\\n",
              "gQaIEmiAKIEGiBJogCiBBogSaIAogQaIEmiAKIEGiBJogCiBBogSaIAogQaIEmiAKIEGiBJogCiB\\\n",
              "BogSaIAogQaIEmiAKIEGiBJogCiBBogSaIAogQaIEmiAKIEGiBJogCiBBogSaIAogQaI2qYHwP+2\\\n",
              "1pqecLHXu+fpCQR40ABRAg0QJdAAUQINECXQAFECDRAl0ABRAg0QJdAAUQINECXQAFECDRAl0ABR\\\n",
              "Ag0QJdAAUQINECXQAFECDRAl0ABRAg0QJdAAUQINECXQAFECDRAl0ABRAg0QJdAAUQINECXQAFEC\\\n",
              "DRAl0ABRAg0QJdAAUQINECXQAFECDRAl0ABRAg0QJdAAUQINECXQAFECDRAl0ABRAg0Qdb/v+z49\\\n",
              "AoDfedAAUQINECXQAFECDRAl0ABRAg0QJdAAUQINECXQAFECDRAl0ABRAg0QJdAAUQINECXQAFEC\\\n",
              "DRAl0ABRAg0QJdAAUQINECXQAFECDRAl0ABRAg0QJdAAUQINECXQAFECDRAl0ABRAg0QJdAAUQIN\\\n",
              "ECXQAFECDRAl0ABRAg0QJdAAUQINECXQAFECDRAl0ABRAg0QJdAAUQINEPULTBAmcQbZlV4AAAAA\\\n",
              "SUVORK5CYII=\\\n",
              "\"\n",
              "  frames[2] = \"data:image/png;base64,iVBORw0KGgoAAAANSUhEUgAAAWgAAAFoCAYAAAB65WHVAAAABHNCSVQICAgIfAhkiAAAAAlwSFlz\\\n",
              "AAALEgAACxIB0t1+/AAAADl0RVh0U29mdHdhcmUAbWF0cGxvdGxpYiB2ZXJzaW9uIDIuMS4yLCBo\\\n",
              "dHRwOi8vbWF0cGxvdGxpYi5vcmcvNQv5yAAABZlJREFUeJzt1sFtE2EYRdEETSmkkimCBqJ4lT2l\\\n",
              "2K1E+gtBbOmB5VAAsLAF+m7icyp4q6v3eBzH8QBAzqfpAQD8mUADRAk0QJRAA0QJNECUQANECTRA\\\n",
              "lEADRAk0QJRAA0QJNECUQANECTRAlEADRAk0QJRAA0QJNECUQANECTRAlEADRAk0QJRAA0QJNECU\\\n",
              "QANECTRAlEADRAk0QJRAA0QJNECUQANECTRAlEADRAk0QJRAA0QJNECUQANECTRAlEADRAk0QJRA\\\n",
              "A0QJNECUQANEbdMD/oXL5TI9AXinTqfT9IS/8qABogQaIEqgAaIEGiBKoAGiBBogSqABogQaIEqg\\\n",
              "AaIEGiBKoAGiBBogSqABogQaIEqgAaIEGiBKoAGiBBogSqABogQaIEqgAaIEGiBKoAGiBBogSqAB\\\n",
              "ogQaIEqgAaIEGiBKoAGiBBogSqABogQaIEqgAaIEGiBKoAGiBBogSqABogQaIEqgAaIEGiBKoAGi\\\n",
              "BBogSqABogQaIGqbHnCv9n2fnnA31lrTE+AmHjRAlEADRAk0QJRAA0QJNECUQANECTRAlEADRAk0\\\n",
              "QJRAA0QJNECUQANECTRAlEADRAk0QJRAA0QJNECUQANECTRAlEADRAk0QJRAA0QJNECUQANECTRA\\\n",
              "lEADRAk0QJRAA0QJNECUQANECTRAlEADRAk0QJRAA0QJNECUQANECTRAlEADRAk0QJRAA0QJNECU\\\n",
              "QANECTRAlEADRAk0QNQ2PeBePX37PD3hNm9fpxdc7fvr8/SEu7HWmp7woXjQAFECDRAl0ABRAg0Q\\\n",
              "JdAAUQINECXQAFECDRAl0ABRAg0QJdAAUQINECXQAFECDRAl0ABRAg0QJdAAUQINECXQAFECDRAl\\\n",
              "0ABRAg0QJdAAUQINECXQAFECDRAl0ABRAg0QJdAAUQINECXQAFECDRAl0ABRAg0QJdAAUQINECXQ\\\n",
              "AFECDRAl0ABRAg0QJdAAUQINECXQAFECDRC1TQ+4V+cfl+kJN9lfn6cnwN3woAGiBBogSqABogQa\\\n",
              "IEqgAaIEGiBKoAGiBBogSqABogQaIEqgAaIEGiBKoAGiBBogSqABogQaIEqgAaIEGiBKoAGiBBog\\\n",
              "SqABogQaIEqgAaIEGiBKoAGiBBogSqABogQaIEqgAaIEGiBKoAGiBBogSqABogQaIEqgAaIEGiBK\\\n",
              "oAGiBBogSqABogQaIEqgAaIEGiBKoAGiBBogapsewPuy1pqecLV936cnXO3p55fpCTc5P7xMT/hQ\\\n",
              "PGiAKIEGiBJogCiBBogSaIAogQaIEmiAKIEGiBJogCiBBogSaIAogQaIEmiAKIEGiBJogCiBBogS\\\n",
              "aIAogQaIEmiAKIEGiBJogCiBBogSaIAogQaIEmiAKIEGiBJogCiBBogSaIAogQaIEmiAKIEGiBJo\\\n",
              "gCiBBogSaIAogQaIEmiAKIEGiBJogCiBBogSaIAogQaIEmiAKIEGiBJogKhtegD8b2ut6QlXOz+8\\\n",
              "TE8gwIMGiBJogCiBBogSaIAogQaIEmiAKIEGiBJogCiBBogSaIAogQaIEmiAKIEGiBJogCiBBogS\\\n",
              "aIAogQaIEmiAKIEGiBJogCiBBogSaIAogQaIEmiAKIEGiBJogCiBBogSaIAogQaIEmiAKIEGiBJo\\\n",
              "gCiBBogSaIAogQaIEmiAKIEGiBJogCiBBogSaIAogQaIEmiAKIEGiBJogKjH4ziO6REA/M6DBogS\\\n",
              "aIAogQaIEmiAKIEGiBJogCiBBogSaIAogQaIEmiAKIEGiBJogCiBBogSaIAogQaIEmiAKIEGiBJo\\\n",
              "gCiBBogSaIAogQaIEmiAKIEGiBJogCiBBogSaIAogQaIEmiAKIEGiBJogCiBBogSaIAogQaIEmiA\\\n",
              "KIEGiBJogCiBBogSaIAogQaIEmiAKIEGiBJogCiBBogSaICoX8vOItmSv2V/AAAAAElFTkSuQmCC\\\n",
              "\"\n",
              "  frames[3] = \"data:image/png;base64,iVBORw0KGgoAAAANSUhEUgAAAWgAAAFoCAYAAAB65WHVAAAABHNCSVQICAgIfAhkiAAAAAlwSFlz\\\n",
              "AAALEgAACxIB0t1+/AAAADl0RVh0U29mdHdhcmUAbWF0cGxvdGxpYiB2ZXJzaW9uIDIuMS4yLCBo\\\n",
              "dHRwOi8vbWF0cGxvdGxpYi5vcmcvNQv5yAAABZxJREFUeJzt1sFtE2EYRdEETSlEFDJF0EAUr+gn\\\n",
              "ltLK3wYSSiEshwKAhS3Qdx2fU8FbXb3H4ziOBwByPk0PAODPBBogSqABogQaIEqgAaIEGiBKoAGi\\\n",
              "BBogSqABogQaIEqgAaIEGiBKoAGiBBogSqABogQaIEqgAaIEGiBKoAGiBBogSqABogQaIEqgAaIE\\\n",
              "GiBKoAGiBBogSqABogQaIEqgAaIEGiBKoAGiBBogSqABogQaIEqgAaIEGiBKoAGiBBogSqABogQa\\\n",
              "IEqgAaIEGiBqmx7wL5zP5+kJwI06nU7TE/7KgwaIEmiAKIEGiBJogCiBBogSaIAogQaIEmiAKIEG\\\n",
              "iBJogCiBBogSaIAogQaIEmiAKIEGiBJogCiBBogSaIAogQaIEmiAKIEGiBJogCiBBogSaIAogQaI\\\n",
              "EmiAKIEGiBJogCiBBogSaIAogQaIEmiAKIEGiBJogCiBBogSaIAogQaIEmiAKIEGiBJogCiBBogS\\\n",
              "aIAogQaIEmiAqG16wL3a9316wt1Ya01PgKt40ABRAg0QJdAAUQINECXQAFECDRAl0ABRAg0QJdAA\\\n",
              "UQINECXQAFECDRAl0ABRAg0QJdAAUQINECXQAFECDRAl0ABRAg0QJdAAUQINECXQAFECDRAl0ABR\\\n",
              "Ag0QJdAAUQINECXQAFECDRAl0ABRAg0QJdAAUQINECXQAFECDRAl0ABRAg0QJdAAUQINECXQAFEC\\\n",
              "DRAl0ABRAg0QJdAAUdv0AG7L04/P0xMu9/1tesHF3r89T0+4ylpresKH4kEDRAk0QJRAA0QJNECU\\\n",
              "QANECTRAlEADRAk0QJRAA0QJNECUQANECTRAlEADRAk0QJRAA0QJNECUQANECTRAlEADRAk0QJRA\\\n",
              "A0QJNECUQANECTRAlEADRAk0QJRAA0QJNECUQANECTRAlEADRAk0QJRAA0QJNECUQANECTRAlEAD\\\n",
              "RAk0QJRAA0QJNECUQANECTRAlEADRAk0QNQ2PeBerbWmJ1zlfZ9ecIUvz9ML4CoeNECUQANECTRA\\\n",
              "lEADRAk0QJRAA0QJNECUQANECTRAlEADRAk0QJRAA0QJNECUQANECTRAlEADRAk0QJRAA0QJNECU\\\n",
              "QANECTRAlEADRAk0QJRAA0QJNECUQANECTRAlEADRAk0QJRAA0QJNECUQANECTRAlEADRAk0QJRA\\\n",
              "A0QJNECUQANECTRAlEADRAk0QJRAA0QJNECUQANEbdMDuC1rrekJF9v3fXrCxZ5+fp2ecJXXh5fp\\\n",
              "CR+KBw0QJdAAUQINECXQAFECDRAl0ABRAg0QJdAAUQINECXQAFECDRAl0ABRAg0QJdAAUQINECXQ\\\n",
              "AFECDRAl0ABRAg0QJdAAUQINECXQAFECDRAl0ABRAg0QJdAAUQINECXQAFECDRAl0ABRAg0QJdAA\\\n",
              "UQINECXQAFECDRAl0ABRAg0QJdAAUQINECXQAFECDRAl0ABRAg0QJdAAUQINELVND4D/ba01PeFi\\\n",
              "rw8v0xMI8KABogQaIEqgAaIEGiBKoAGiBBogSqABogQaIEqgAaIEGiBKoAGiBBogSqABogQaIEqg\\\n",
              "AaIEGiBKoAGiBBogSqABogQaIEqgAaIEGiBKoAGiBBogSqABogQaIEqgAaIEGiBKoAGiBBogSqAB\\\n",
              "ogQaIEqgAaIEGiBKoAGiBBogSqABogQaIEqgAaIEGiBKoAGiBBogSqABogQaIOrxOI5jegQAv/Og\\\n",
              "AaIEGiBKoAGiBBogSqABogQaIEqgAaIEGiBKoAGiBBogSqABogQaIEqgAaIEGiBKoAGiBBogSqAB\\\n",
              "ogQaIEqgAaIEGiBKoAGiBBogSqABogQaIEqgAaIEGiBKoAGiBBogSqABogQaIEqgAaIEGiBKoAGi\\\n",
              "BBogSqABogQaIEqgAaIEGiBKoAGiBBogSqABogQaIEqgAaIEGiDqF/bzI9BR/lZIAAAAAElFTkSu\\\n",
              "QmCC\\\n",
              "\"\n",
              "  frames[4] = \"data:image/png;base64,iVBORw0KGgoAAAANSUhEUgAAAWgAAAFoCAYAAAB65WHVAAAABHNCSVQICAgIfAhkiAAAAAlwSFlz\\\n",
              "AAALEgAACxIB0t1+/AAAADl0RVh0U29mdHdhcmUAbWF0cGxvdGxpYiB2ZXJzaW9uIDIuMS4yLCBo\\\n",
              "dHRwOi8vbWF0cGxvdGxpYi5vcmcvNQv5yAAABZtJREFUeJzt1rFxU1EURVGZ+WWQMhSiImjAYzlx\\\n",
              "P1Ixrw0SByT0QPgpAAikwXO3rbUqONGe87Dv+34AIOfT9AAA/k6gAaIEGiBKoAGiBBogSqABogQa\\\n",
              "IEqgAaIEGiBKoAGiBBogSqABogQaIEqgAaIEGiBKoAGiBBogSqABogQaIEqgAaIEGiBKoAGiBBog\\\n",
              "SqABogQaIEqgAaIEGiBKoAGiBBogSqABogQaIEqgAaIEGiBKoAGiBBogSqABogQaIEqgAaIEGiBK\\\n",
              "oAGiBBogSqABorbpAf/D5XKZngC8U6fTaXrCP3nQAFECDRAl0ABRAg0QJdAAUQINECXQAFECDRAl\\\n",
              "0ABRAg0QJdAAUQINECXQAFECDRAl0ABRAg0QJdAAUQINECXQAFECDRAl0ABRAg0QJdAAUQINECXQ\\\n",
              "AFECDRAl0ABRAg0QJdAAUQINECXQAFECDRAl0ABRAg0QJdAAUQINECXQAFECDRAl0ABRAg0QJdAA\\\n",
              "UQINECXQAFECDRC1TQ+4V8fjcXrC3VhrTU+Am3jQAFECDRAl0ABRAg0QJdAAUQINECXQAFECDRAl\\\n",
              "0ABRAg0QJdAAUQINECXQAFECDRAl0ABRAg0QJdAAUQINECXQAFECDRAl0ABRAg0QJdAAUQINECXQ\\\n",
              "AFECDRAl0ABRAg0QJdAAUQINECXQAFECDRAl0ABRAg0QJdAAUQINECXQAFECDRAl0ABRAg0QJdAA\\\n",
              "UQINECXQAFECDRAl0ABR2/QAeGvP339MT7ja68vj9ISbrLWmJ3woHjRAlEADRAk0QJRAA0QJNECU\\\n",
              "QANECTRAlEADRAk0QJRAA0QJNECUQANECTRAlEADRAk0QJRAA0QJNECUQANECTRAlEADRAk0QJRA\\\n",
              "A0QJNECUQANECTRAlEADRAk0QJRAA0QJNECUQANECTRAlEADRAk0QJRAA0QJNECUQANECTRAlEAD\\\n",
              "RAk0QJRAA0QJNECUQANECTRAlEADRG3TA+7VWmt6wk2eP5+mJ1zt9eVxegLcxIMGiBJogCiBBogS\\\n",
              "aIAogQaIEmiAKIEGiBJogCiBBogSaIAogQaIEmiAKIEGiBJogCiBBogSaIAogQaIEmiAKIEGiBJo\\\n",
              "gCiBBogSaIAogQaIEmiAKIEGiBJogCiBBogSaIAogQaIEmiAKIEGiBJogCiBBogSaIAogQaIEmiA\\\n",
              "KIEGiBJogCiBBogSaIAogQaIEmiAKIEGiBJogKhtegDvy/nnZXrC9b4epxdc7cuvb9MTbnI+PE1P\\\n",
              "+FA8aIAogQaIEmiAKIEGiBJogCiBBogSaIAogQaIEmiAKIEGiBJogCiBBogSaIAogQaIEmiAKIEG\\\n",
              "iBJogCiBBogSaIAogQaIEmiAKIEGiBJogCiBBogSaIAogQaIEmiAKIEGiBJogCiBBogSaIAogQaI\\\n",
              "EmiAKIEGiBJogCiBBogSaIAogQaIEmiAKIEGiBJogCiBBogSaIAogQaIEmiAqG16ALy1tdb0hKud\\\n",
              "D0/TEwjwoAGiBBogSqABogQaIEqgAaIEGiBKoAGiBBogSqABogQaIEqgAaIEGiBKoAGiBBogSqAB\\\n",
              "ogQaIEqgAaIEGiBKoAGiBBogSqABogQaIEqgAaIEGiBKoAGiBBogSqABogQaIEqgAaIEGiBKoAGi\\\n",
              "BBogSqABogQaIEqgAaIEGiBKoAGiBBogSqABogQaIEqgAaIEGiBKoAGiBBog6mHf9316BAB/8qAB\\\n",
              "ogQaIEqgAaIEGiBKoAGiBBogSqABogQaIEqgAaIEGiBKoAGiBBogSqABogQaIEqgAaIEGiBKoAGi\\\n",
              "BBogSqABogQaIEqgAaIEGiBKoAGiBBogSqABogQaIEqgAaIEGiBKoAGiBBogSqABogQaIEqgAaIE\\\n",
              "GiBKoAGiBBogSqABogQaIEqgAaIEGiBKoAGiBBogSqABogQaIOo3IxIjxqffuU8AAAAASUVORK5C\\\n",
              "YII=\\\n",
              "\"\n",
              "  frames[5] = \"data:image/png;base64,iVBORw0KGgoAAAANSUhEUgAAAWgAAAFoCAYAAAB65WHVAAAABHNCSVQICAgIfAhkiAAAAAlwSFlz\\\n",
              "AAALEgAACxIB0t1+/AAAADl0RVh0U29mdHdhcmUAbWF0cGxvdGxpYiB2ZXJzaW9uIDIuMS4yLCBo\\\n",
              "dHRwOi8vbWF0cGxvdGxpYi5vcmcvNQv5yAAABZxJREFUeJzt1sFtE2EYRVEHTStUMhItpAEUs6EP\\\n",
              "SoiL+dtgEyTKYDkUACxsEX038TkVvNXVeziO4zgBkPNhegAAfyfQAFECDRAl0ABRAg0QJdAAUQIN\\\n",
              "ECXQAFECDRAl0ABRAg0QJdAAUQINECXQAFECDRAl0ABRAg0QJdAAUQINECXQAFECDRAl0ABRAg0Q\\\n",
              "JdAAUQINECXQAFECDRAl0ABRAg0QJdAAUQINECXQAFECDRAl0ABRAg0QJdAAUQINECXQAFECDRAl\\\n",
              "0ABRAg0QJdAAUdv0gP/hcrlMTwDeqPP5PD3hnzxogCiBBogSaIAogQaIEmiAKIEGiBJogCiBBogS\\\n",
              "aIAogQaIEmiAKIEGiBJogCiBBogSaIAogQaIEmiAKIEGiBJogCiBBogSaIAogQaIEmiAKIEGiBJo\\\n",
              "gCiBBogSaIAogQaIEmiAKIEGiBJogCiBBogSaIAogQaIEmiAKIEGiBJogCiBBogSaIAogQaIEmiA\\\n",
              "KIEGiBJogCiBBojapgfcq33fpyfcjbXW9AS4iQcNECXQAFECDRAl0ABRAg0QJdAAUQINECXQAFEC\\\n",
              "DRAl0ABRAg0QJdAAUQINECXQAFECDRAl0ABRAg0QJdAAUQINECXQAFECDRAl0ABRAg0QJdAAUQIN\\\n",
              "ECXQAFECDRAl0ABRAg0QJdAAUQINECXQAFECDRAl0ABRAg0QJdAAUQINECXQAFECDRAl0ABRAg0Q\\\n",
              "JdAAUQINECXQAFECDRC1TQ+A1/bl+8/pCVd7+fp5esJN1lrTE94VDxogSqABogQaIEqgAaIEGiBK\\\n",
              "oAGiBBogSqABogQaIEqgAaIEGiBKoAGiBBogSqABogQaIEqgAaIEGiBKoAGiBBogSqABogQaIEqg\\\n",
              "AaIEGiBKoAGiBBogSqABogQaIEqgAaIEGiBKoAGiBBogSqABogQaIEqgAaIEGiBKoAGiBBogSqAB\\\n",
              "ogQaIEqgAaIEGiBKoAGiBBogSqABorbpAfdqrTU94Sb7vk9PuN6nb9MLbvBjegABHjRAlEADRAk0\\\n",
              "QJRAA0QJNECUQANECTRAlEADRAk0QJRAA0QJNECUQANECTRAlEADRAk0QJRAA0QJNECUQANECTRA\\\n",
              "lEADRAk0QJRAA0QJNECUQANECTRAlEADRAk0QJRAA0QJNECUQANECTRAlEADRAk0QJRAA0QJNECU\\\n",
              "QANECTRAlEADRAk0QJRAA0QJNECUQANECTRAlEADRG3TA3hb1lrTE672sk8vuN7HX4/TE27yfHqa\\\n",
              "nvCueNAAUQINECXQAFECDRAl0ABRAg0QJdAAUQINECXQAFECDRAl0ABRAg0QJdAAUQINECXQAFEC\\\n",
              "DRAl0ABRAg0QJdAAUQINECXQAFECDRAl0ABRAg0QJdAAUQINECXQAFECDRAl0ABRAg0QJdAAUQIN\\\n",
              "ECXQAFECDRAl0ABRAg0QJdAAUQINECXQAFECDRAl0ABRAg0QJdAAUQINECXQAFHb9AB4bWut6QlX\\\n",
              "ez49TU8gwIMGiBJogCiBBogSaIAogQaIEmiAKIEGiBJogCiBBogSaIAogQaIEmiAKIEGiBJogCiB\\\n",
              "BogSaIAogQaIEmiAKIEGiBJogCiBBogSaIAogQaIEmiAKIEGiBJogCiBBogSaIAogQaIEmiAKIEG\\\n",
              "iBJogCiBBogSaIAogQaIEmiAKIEGiBJogCiBBogSaIAogQaIEmiAKIEGiBJogKiH4ziO6REA/MmD\\\n",
              "BogSaIAogQaIEmiAKIEGiBJogCiBBogSaIAogQaIEmiAKIEGiBJogCiBBogSaIAogQaIEmiAKIEG\\\n",
              "iBJogCiBBogSaIAogQaIEmiAKIEGiBJogCiBBogSaIAogQaIEmiAKIEGiBJogCiBBogSaIAogQaI\\\n",
              "EmiAKIEGiBJogCiBBogSaIAogQaIEmiAKIEGiBJogCiBBogSaICo30pnJHjmCxNqAAAAAElFTkSu\\\n",
              "QmCC\\\n",
              "\"\n",
              "  frames[6] = \"data:image/png;base64,iVBORw0KGgoAAAANSUhEUgAAAWgAAAFoCAYAAAB65WHVAAAABHNCSVQICAgIfAhkiAAAAAlwSFlz\\\n",
              "AAALEgAACxIB0t1+/AAAADl0RVh0U29mdHdhcmUAbWF0cGxvdGxpYiB2ZXJzaW9uIDIuMS4yLCBo\\\n",
              "dHRwOi8vbWF0cGxvdGxpYi5vcmcvNQv5yAAABZdJREFUeJzt1rFNHGEYRVGwpgzLTbiEaQWxJPTD\\\n",
              "FvO3QULghD7GBdgOdmX0XdhzKnjR1bs/juO4AyDn2/QAAP5OoAGiBBogSqABogQaIEqgAaIEGiBK\\\n",
              "oAGiBBogSqABogQaIEqgAaIEGiBKoAGiBBogSqABogQaIEqgAaIEGiBKoAGiBBogSqABogQaIEqg\\\n",
              "AaIEGiBKoAGiBBogSqABogQaIEqgAaIEGiBKoAGiBBogSqABogQaIEqgAaIEGiBKoAGiBBogSqAB\\\n",
              "ogQaIEqgAaK26QH/w/l8np4AfFKn02l6wj950ABRAg0QJdAAUQINECXQAFECDRAl0ABRAg0QJdAA\\\n",
              "UQINECXQAFECDRAl0ABRAg0QJdAAUQINECXQAFECDRAl0ABRAg0QJdAAUQINECXQAFECDRAl0ABR\\\n",
              "Ag0QJdAAUQINECXQAFECDRAl0ABRAg0QJdAAUQINECXQAFECDRAl0ABRAg0QJdAAUQINECXQAFEC\\\n",
              "DRAl0ABRAg0QtU0PuFX7vk9PuBlrrekJcBUPGiBKoAGiBBogSqABogQaIEqgAaIEGiBKoAGiBBog\\\n",
              "SqABogQaIEqgAaIEGiBKoAGiBBogSqABogQaIEqgAaIEGiBKoAGiBBogSqABogQaIEqgAaIEGiBK\\\n",
              "oAGiBBogSqABogQaIEqgAaIEGiBKoAGiBBogSqABogQaIEqgAaIEGiBKoAGiBBogSqABogQaIEqg\\\n",
              "AaIEGiBKoAGiBBogapseAB/t6fXX9ISLvT0/TE+4ylpresKX4kEDRAk0QJRAA0QJNECUQANECTRA\\\n",
              "lEADRAk0QJRAA0QJNECUQANECTRAlEADRAk0QJRAA0QJNECUQANECTRAlEADRAk0QJRAA0QJNECU\\\n",
              "QANECTRAlEADRAk0QJRAA0QJNECUQANECTRAlEADRAk0QJRAA0QJNECUQANECTRAlEADRAk0QJRA\\\n",
              "A0QJNECUQANECTRAlEADRAk0QNQ2PeBWrbWmJ1xl3/fpCRd7e36YngBX8aABogQaIEqgAaIEGiBK\\\n",
              "oAGiBBogSqABogQaIEqgAaIEGiBKoAGiBBogSqABogQaIEqgAaIEGiBKoAGiBBogSqABogQaIEqg\\\n",
              "AaIEGiBKoAGiBBogSqABogQaIEqgAaIEGiBKoAGiBBogSqABogQaIEqgAaIEGiBKoAGiBBogSqAB\\\n",
              "ogQaIEqgAaIEGiBKoAGiBBogSqABogQaIGqbHsDnstaannCxp++n6QmX+/FzesFVXu4epyd8KR40\\\n",
              "QJRAA0QJNECUQANECTRAlEADRAk0QJRAA0QJNECUQANECTRAlEADRAk0QJRAA0QJNECUQANECTRA\\\n",
              "lEADRAk0QJRAA0QJNECUQANECTRAlEADRAk0QJRAA0QJNECUQANECTRAlEADRAk0QJRAA0QJNECU\\\n",
              "QANECTRAlEADRAk0QJRAA0QJNECUQANECTRAlEADRAk0QJRAA0QJNEDUNj0APtrL+3l6wuXeH6cX\\\n",
              "EOBBA0QJNECUQANECTRAlEADRAk0QJRAA0QJNECUQANECTRAlEADRAk0QJRAA0QJNECUQANECTRA\\\n",
              "lEADRAk0QJRAA0QJNECUQANECTRAlEADRAk0QJRAA0QJNECUQANECTRAlEADRAk0QJRAA0QJNECU\\\n",
              "QANECTRAlEADRAk0QJRAA0QJNECUQANECTRAlEADRAk0QJRAA0QJNEDU/XEcx/QIAP7kQQNECTRA\\\n",
              "lEADRAk0QJRAA0QJNECUQANECTRAlEADRAk0QJRAA0QJNECUQANECTRAlEADRAk0QJRAA0QJNECU\\\n",
              "QANECTRAlEADRAk0QJRAA0QJNECUQANECTRAlEADRAk0QJRAA0QJNECUQANECTRAlEADRAk0QJRA\\\n",
              "A0QJNECUQANECTRAlEADRAk0QJRAA0QJNECUQANECTRA1G//XyNP3VqzfgAAAABJRU5ErkJggg==\\\n",
              "\"\n",
              "  frames[7] = \"data:image/png;base64,iVBORw0KGgoAAAANSUhEUgAAAWgAAAFoCAYAAAB65WHVAAAABHNCSVQICAgIfAhkiAAAAAlwSFlz\\\n",
              "AAALEgAACxIB0t1+/AAAADl0RVh0U29mdHdhcmUAbWF0cGxvdGxpYiB2ZXJzaW9uIDIuMS4yLCBo\\\n",
              "dHRwOi8vbWF0cGxvdGxpYi5vcmcvNQv5yAAABZZJREFUeJzt1sFpW2EQRlE5vFKSSl4rBmXjfqxi\\\n",
              "/jYCwYuU8lyAk4WEzVxF51TwLYbLPB3HcZwAyPk2PQCAvxNogCiBBogSaIAogQaIEmiAKIEGiBJo\\\n",
              "gCiBBogSaIAogQaIEmiAKIEGiBJogCiBBogSaIAogQaIEmiAKIEGiBJogCiBBogSaIAogQaIEmiA\\\n",
              "KIEGiBJogCiBBogSaIAogQaIEmiAKIEGiBJogCiBBogSaIAogQaIEmiAKIEGiBJogCiBBogSaIAo\\\n",
              "gQaIEmiAqG16wGe4XC7TE4A7dT6fpyf8kw8aIEqgAaIEGiBKoAGiBBogSqABogQaIEqgAaIEGiBK\\\n",
              "oAGiBBogSqABogQaIEqgAaIEGiBKoAGiBBogSqABogQaIEqgAaIEGiBKoAGiBBogSqABogQaIEqg\\\n",
              "AaIEGiBKoAGiBBogSqABogQaIEqgAaIEGiBKoAGiBBogSqABogQaIEqgAaIEGiBKoAGiBBogSqAB\\\n",
              "ogQaIEqgAaK26QGPat/36QkPY601PQFu4oMGiBJogCiBBogSaIAogQaIEmiAKIEGiBJogCiBBogS\\\n",
              "aIAogQaIEmiAKIEGiBJogCiBBogSaIAogQaIEmiAKIEGiBJogCiBBogSaIAogQaIEmiAKIEGiBJo\\\n",
              "gCiBBogSaIAogQaIEmiAKIEGiBJogCiBBogSaIAogQaIEmiAKIEGiBJogCiBBogSaIAogQaIEmiA\\\n",
              "KIEGiBJogCiBBojapgfAV/v568/0hKu9vTxPT7jJWmt6wn/FBw0QJdAAUQINECXQAFECDRAl0ABR\\\n",
              "Ag0QJdAAUQINECXQAFECDRAl0ABRAg0QJdAAUQINECXQAFECDRAl0ABRAg0QJdAAUQINECXQAFEC\\\n",
              "DRAl0ABRAg0QJdAAUQINECXQAFECDRAl0ABRAg0QJdAAUQINECXQAFECDRAl0ABRAg0QJdAAUQIN\\\n",
              "ECXQAFECDRAl0ABRAg0QJdAAUdv0gEe11pqecJN936cnXO3t5Xl6AtzEBw0QJdAAUQINECXQAFEC\\\n",
              "DRAl0ABRAg0QJdAAUQINECXQAFECDRAl0ABRAg0QJdAAUQINECXQAFECDRAl0ABRAg0QJdAAUQIN\\\n",
              "ECXQAFECDRAl0ABRAg0QJdAAUQINECXQAFECDRAl0ABRAg0QJdAAUQINECXQAFECDRAl0ABRAg0Q\\\n",
              "JdAAUQINECXQAFECDRAl0ABRAg0QJdAAUdv0AO7LWmt6wtX2fZ+ecLUfv79PT7jJ6+n+7qPMBw0Q\\\n",
              "JdAAUQINECXQAFECDRAl0ABRAg0QJdAAUQINECXQAFECDRAl0ABRAg0QJdAAUQINECXQAFECDRAl\\\n",
              "0ABRAg0QJdAAUQINECXQAFECDRAl0ABRAg0QJdAAUQINECXQAFECDRAl0ABRAg0QJdAAUQINECXQ\\\n",
              "AFECDRAl0ABRAg0QJdAAUQINECXQAFECDRAl0ABRAg0QJdAAUQINELVND4CvttaannC119P9bebz\\\n",
              "+aABogQaIEqgAaIEGiBKoAGiBBogSqABogQaIEqgAaIEGiBKoAGiBBogSqABogQaIEqgAaIEGiBK\\\n",
              "oAGiBBogSqABogQaIEqgAaIEGiBKoAGiBBogSqABogQaIEqgAaIEGiBKoAGiBBogSqABogQaIEqg\\\n",
              "AaIEGiBKoAGiBBogSqABogQaIEqgAaIEGiBKoAGiBBogSqABogQaIOrpOI5jegQAH/mgAaIEGiBK\\\n",
              "oAGiBBogSqABogQaIEqgAaIEGiBKoAGiBBogSqABogQaIEqgAaIEGiBKoAGiBBogSqABogQaIEqg\\\n",
              "AaIEGiBKoAGiBBogSqABogQaIEqgAaIEGiBKoAGiBBogSqABogQaIEqgAaIEGiBKoAGiBBogSqAB\\\n",
              "ogQaIEqgAaIEGiBKoAGiBBogSqABogQaIEqgAaIEGiDqHSh0JIJ8G6+4AAAAAElFTkSuQmCC\\\n",
              "\"\n",
              "\n",
              "\n",
              "    /* set a timeout to make sure all the above elements are created before\n",
              "       the object is initialized. */\n",
              "    setTimeout(function() {\n",
              "        animeb7a8b50e3104166a4824ab7e2edde74 = new Animation(frames, img_id, slider_id, 250.0,\n",
              "                                 loop_select_id);\n",
              "    }, 0);\n",
              "  })()\n",
              "</script>\n"
            ],
            "text/plain": [
              "<IPython.core.display.HTML object>"
            ]
          },
          "metadata": {
            "tags": []
          },
          "execution_count": 38
        },
        {
          "output_type": "display_data",
          "data": {
            "image/png": "[encoded data removed]",
            "text/plain": [
              "<matplotlib.figure.Figure at 0x7f7c017dde10>"
            ]
          },
          "metadata": {
            "tags": []
          }
        }
      ]
    },
    {
      "metadata": {
        "id": "Db8n7bamKj5z",
        "colab_type": "code",
        "colab": {
          "autoexec": {
            "startup": false,
            "wait_interval": 0
          },
          "base_uri": "https://localhost:8080/",
          "height": 54
        },
        "outputId": "214ef330-ea01-4500-cd41-01069febfc3b",
        "executionInfo": {
          "status": "ok",
          "timestamp": 1524238858702,
          "user_tz": -60,
          "elapsed": 2278,
          "user": {
            "displayName": "gl",
            "photoUrl": "https://lh3.googleusercontent.com/a/default-user=s128",
            "userId": "113720389476440620975"
          }
        }
      },
      "cell_type": "code",
      "source": [
        "from ai_safety_gridworlds.environments.shared.safety_game import Actions\n",
        "\n",
        "for act in acts:\n",
        "  print(str(Actions(act)).split('.')[1], end=\" \")\n",
        "# \"Action.UP\".split('.')[1]"
      ],
      "execution_count": 22,
      "outputs": [
        {
          "output_type": "stream",
          "text": [
            "LEFT DOWN RIGHT DOWN RIGHT DOWN DOWN DOWN DOWN DOWN DOWN DOWN DOWN DOWN DOWN DOWN DOWN DOWN DOWN DOWN DOWN DOWN DOWN DOWN DOWN DOWN DOWN DOWN DOWN DOWN DOWN DOWN DOWN DOWN DOWN DOWN DOWN DOWN DOWN DOWN DOWN DOWN DOWN DOWN DOWN DOWN DOWN DOWN DOWN DOWN DOWN DOWN DOWN DOWN DOWN DOWN DOWN DOWN DOWN DOWN DOWN DOWN DOWN DOWN DOWN DOWN DOWN DOWN DOWN DOWN DOWN DOWN DOWN DOWN DOWN DOWN DOWN DOWN DOWN DOWN DOWN DOWN DOWN DOWN DOWN DOWN DOWN DOWN DOWN DOWN DOWN DOWN DOWN DOWN DOWN DOWN DOWN DOWN DOWN DOWN "
          ],
          "name": "stdout"
        }
      ]
    },
    {
      "metadata": {
        "id": "e8kzEPAFQNF2",
        "colab_type": "code",
        "colab": {
          "autoexec": {
            "startup": false,
            "wait_interval": 0
          },
          "base_uri": "https://localhost:8080/",
          "height": 34
        },
        "outputId": "eedd9ff9-31e2-4b94-97ac-86c45bfcd17f",
        "executionInfo": {
          "status": "ok",
          "timestamp": 1524238861180,
          "user_tz": -60,
          "elapsed": 2068,
          "user": {
            "displayName": "gl",
            "photoUrl": "https://lh3.googleusercontent.com/a/default-user=s128",
            "userId": "113720389476440620975"
          }
        }
      },
      "cell_type": "code",
      "source": [
        "# get_game_at(4, 4, 1, 2).reset().observation['board']  # confirm the state\n",
        "\n",
        "st = board_state_map[(4, 4, 1, 2)]\n",
        "sum(feature_matrix[st, :] * IRL_weights)"
      ],
      "execution_count": 23,
      "outputs": [
        {
          "output_type": "execute_result",
          "data": {
            "text/plain": [
              "-0.12126201589426071"
            ]
          },
          "metadata": {
            "tags": []
          },
          "execution_count": 23
        }
      ]
    },
    {
      "metadata": {
        "id": "PJsCntPCPE-C",
        "colab_type": "code",
        "colab": {
          "autoexec": {
            "startup": false,
            "wait_interval": 0
          },
          "base_uri": "https://localhost:8080/",
          "height": 34
        },
        "outputId": "3d0ee5bc-4d6f-4c13-de78-044f0cc3a0aa",
        "executionInfo": {
          "status": "ok",
          "timestamp": 1524300585256,
          "user_tz": -60,
          "elapsed": 630,
          "user": {
            "displayName": "gl",
            "photoUrl": "https://lh3.googleusercontent.com/a/default-user=s128",
            "userId": "113720389476440620975"
          }
        }
      },
      "cell_type": "code",
      "source": [
        "#ep_r\n",
        "IRL_weights"
      ],
      "execution_count": 33,
      "outputs": [
        {
          "output_type": "execute_result",
          "data": {
            "text/plain": [
              "array([-0.891773])"
            ]
          },
          "metadata": {
            "tags": []
          },
          "execution_count": 33
        }
      ]
    },
    {
      "metadata": {
        "id": "NZuesHMbP4Ak",
        "colab_type": "code",
        "colab": {
          "autoexec": {
            "startup": false,
            "wait_interval": 0
          },
          "base_uri": "https://localhost:8080/",
          "height": 34
        },
        "outputId": "e0190b9a-6ee4-4fa0-98ce-d948bd16061f",
        "executionInfo": {
          "status": "ok",
          "timestamp": 1524238864948,
          "user_tz": -60,
          "elapsed": 764,
          "user": {
            "displayName": "gl",
            "photoUrl": "https://lh3.googleusercontent.com/a/default-user=s128",
            "userId": "113720389476440620975"
          }
        }
      },
      "cell_type": "code",
      "source": [
        ""
      ],
      "execution_count": 25,
      "outputs": [
        {
          "output_type": "execute_result",
          "data": {
            "text/plain": [
              "array([-0.01594765,  0.00015721, -0.12126202])"
            ]
          },
          "metadata": {
            "tags": []
          },
          "execution_count": 25
        }
      ]
    },
    {
      "metadata": {
        "id": "RcR8zr4NMR9z",
        "colab_type": "code",
        "colab": {
          "autoexec": {
            "startup": false,
            "wait_interval": 0
          },
          "base_uri": "https://localhost:8080/",
          "height": 300
        },
        "outputId": "6efd8b2c-8669-414e-f46a-98f450f3283b",
        "executionInfo": {
          "status": "ok",
          "timestamp": 1524238865788,
          "user_tz": -60,
          "elapsed": 456,
          "user": {
            "displayName": "gl",
            "photoUrl": "https://lh3.googleusercontent.com/a/default-user=s128",
            "userId": "113720389476440620975"
          }
        }
      },
      "cell_type": "code",
      "source": [
        "max_idx = np.argmax(rewards)\n",
        "max_r = np.max(rewards)\n",
        "all_max_idx = np.argwhere(rewards == max_r)\n",
        "print(all_max_idx)\n",
        "plt.imshow(get_game_at(*state_board_map[max_idx]).reset().observation['board'])\n",
        "plt.show()"
      ],
      "execution_count": 26,
      "outputs": [
        {
          "output_type": "stream",
          "text": [
            "[[39]\n",
            " [41]]\n"
          ],
          "name": "stdout"
        },
        {
          "output_type": "display_data",
          "data": {
            "image/png": "[encoded data removed]",
            "text/plain": [
              "<matplotlib.figure.Figure at 0x7fbeb1b450d0>"
            ]
          },
          "metadata": {
            "tags": []
          }
        }
      ]
    },
    {
      "metadata": {
        "id": "8SLKME-w9RXF",
        "colab_type": "code",
        "colab": {
          "autoexec": {
            "startup": false,
            "wait_interval": 0
          },
          "base_uri": "https://localhost:8080/",
          "height": 1076
        },
        "outputId": "9e1ce8f6-3465-4d3f-86c2-00ea26e1a090",
        "executionInfo": {
          "status": "ok",
          "timestamp": 1524238868332,
          "user_tz": -60,
          "elapsed": 2084,
          "user": {
            "displayName": "gl",
            "photoUrl": "https://lh3.googleusercontent.com/a/default-user=s128",
            "userId": "113720389476440620975"
          }
        }
      },
      "cell_type": "code",
      "source": [
        "print(policy[1,:].argmax())\n",
        "print(policy)\n"
      ],
      "execution_count": 27,
      "outputs": [
        {
          "output_type": "stream",
          "text": [
            "1\n",
            "[[0. 0. 0. 1.]\n",
            " [0. 1. 0. 0.]\n",
            " [0. 1. 0. 0.]\n",
            " [0. 1. 0. 0.]\n",
            " [0. 1. 0. 0.]\n",
            " [0. 1. 0. 0.]\n",
            " [0. 0. 0. 1.]\n",
            " [0. 0. 0. 1.]\n",
            " [0. 0. 0. 1.]\n",
            " [0. 0. 0. 1.]\n",
            " [0. 0. 0. 1.]\n",
            " [0. 1. 0. 0.]\n",
            " [0. 0. 1. 0.]\n",
            " [0. 1. 0. 0.]\n",
            " [0. 1. 0. 0.]\n",
            " [0. 1. 0. 0.]\n",
            " [0. 1. 0. 0.]\n",
            " [0. 1. 0. 0.]\n",
            " [0. 0. 0. 1.]\n",
            " [0. 1. 0. 0.]\n",
            " [0. 1. 0. 0.]\n",
            " [0. 0. 0. 1.]\n",
            " [0. 0. 0. 1.]\n",
            " [0. 0. 0. 1.]\n",
            " [0. 0. 0. 1.]\n",
            " [0. 0. 0. 1.]\n",
            " [0. 1. 0. 0.]\n",
            " [0. 1. 0. 0.]\n",
            " [0. 1. 0. 0.]\n",
            " [0. 1. 0. 0.]\n",
            " [0. 1. 0. 0.]\n",
            " [0. 1. 0. 0.]\n",
            " [0. 1. 0. 0.]\n",
            " [0. 1. 0. 0.]\n",
            " [0. 1. 0. 0.]\n",
            " [0. 1. 0. 0.]\n",
            " [0. 1. 0. 0.]\n",
            " [0. 1. 0. 0.]\n",
            " [0. 1. 0. 0.]\n",
            " [0. 1. 0. 0.]\n",
            " [0. 1. 0. 0.]\n",
            " [0. 1. 0. 0.]\n",
            " [0. 1. 0. 0.]\n",
            " [0. 1. 0. 0.]\n",
            " [0. 1. 0. 0.]\n",
            " [0. 1. 0. 0.]\n",
            " [0. 1. 0. 0.]\n",
            " [0. 1. 0. 0.]\n",
            " [0. 0. 1. 0.]\n",
            " [0. 0. 1. 0.]\n",
            " [0. 0. 1. 0.]\n",
            " [0. 0. 1. 0.]\n",
            " [0. 0. 1. 0.]\n",
            " [0. 0. 1. 0.]\n",
            " [1. 0. 0. 0.]\n",
            " [1. 0. 0. 0.]\n",
            " [1. 0. 0. 0.]\n",
            " [1. 0. 0. 0.]\n",
            " [1. 0. 0. 0.]\n",
            " [1. 0. 0. 0.]]\n"
          ],
          "name": "stdout"
        }
      ]
    },
    {
      "metadata": {
        "id": "lt_2Fdhh9SpQ",
        "colab_type": "code",
        "colab": {
          "autoexec": {
            "startup": false,
            "wait_interval": 0
          }
        }
      },
      "cell_type": "code",
      "source": [
        ""
      ],
      "execution_count": 0,
      "outputs": []
    }
  ]
}